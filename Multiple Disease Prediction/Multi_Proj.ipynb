#For 3

Proj1=[]
for i in range(4920):
    if Pro_li[i][1]==3:
        Proj1.append(i)

len(Proj1)
Proj_data1=Pro_dis.iloc[Proj1]
print(Proj_data1)

print('-------------------------------------------------')

Pro_li1=[]
for i in range(len(Proj1)):
    Pr_l1=dict(Proj_data1.iloc[i,:])
    count=0
    for j in Proj_data1.columns:
        if Pr_l1[j]!=None:
            count=count+1
    Pro_li1.append([i,count])
print(Pro_li1)

print('-------------------------------------------------')

print(unique(DataFrame(Pro_li1)[1]))

print('-------------------------------------------------')
Proj_data1.drop(['symptom4','symptom5','symptom6','symptom7','symptom8','symptom9','symptom10','symptom11','symptom12','symptom13','symptom14','symptom15','symptom16','symptom17'],axis=1,inplace=True)
print(Proj_data1)

Proj_data1.to_csv('Health_Disease_O3')

-------------------------------------------------

#Upto 3 where More than 3

Proj1_1=[]
for i in range(4920):
    if Pro_li[i][1]>=3:
        Proj1_1.append(i)

len(Proj1_1)
Proj_data1_1=Pro_dis.iloc[Proj1_1]
print(Proj_data1_1)

print('-------------------------------------------------')

Pro_li1_1=[]
for i in range(len(Proj1_1)):
    Pr_l1_1=dict(Proj_data1_1.iloc[i,:])
    count=0
    for j in Proj_data1_1.columns:
        if Pr_l1_1[j]!=None:
            count=count+1
    Pro_li1_1.append([i,count])
print(Pro_li1_1)
print('-------------------------------------------------')

print(unique(DataFrame(Pro_li1_1)[1]))

print('-------------------------------------------------')
Proj_data1_1.drop(['symptom4','symptom5','symptom6','symptom7','symptom8','symptom9','symptom10','symptom11','symptom12','symptom13','symptom14','symptom15','symptom16','symptom17'],axis=1,inplace=True)
print(Proj_data1_1)

Proj_data1_1.to_csv('Health_Disease_M3')



-----------------------------------------------------------------------------------------------------

# For 4

Proj2=[]
for i in range(4920):
    if Pro_li[i][1]==4:
        Proj2.append(i)

len(Proj2)
Proj_data2=Pro_dis.iloc[Proj2]
print(Proj_data2)
print('-------------------------------------------------')
Pro_li2=[]
for i in range(len(Proj2)):
    Pr_l2=dict(Proj_data2.iloc[i,:])
    count=0
    for j in Proj_data2.columns:
        if Pr_l2[j]!=None:
            count=count+1
    Pro_li2.append([i,count])
print(Pro_li2)

print('-------------------------------------------------')
    
print(unique(DataFrame(Pro_li2)[1]))

print('-------------------------------------------------')

Proj_data2.drop(['symptom5','symptom6','symptom7','symptom8','symptom9','symptom10','symptom11','symptom12','symptom13','symptom14','symptom15','symptom16','symptom17'],axis=1,inplace=True)
print(Proj_data2)

Proj_data2.to_csv('Health_Disease_O4')

----------------------------------------------------------------

#Upto 4 where More than 4


Proj2_1=[]
for i in range(4920):
    if Pro_li[i][1]>=4:
        Proj2_1.append(i)

len(Proj2_1)
Proj_data2_1=Pro_dis.iloc[Proj2_1]
print(Proj_data2_1)
print('-------------------------------------------------')
Pro_li2_1=[]
for i in range(len(Proj2_1)):
    Pr_l2_1=dict(Proj_data2_1.iloc[i,:])
    count=0
    for j in Proj_data2_1.columns:
        if Pr_l2_1[j]!=None:
            count=count+1
    Pro_li2_1.append([i,count])
print(Pro_li2_1)

print('-------------------------------------------------')
    
print(unique(DataFrame(Pro_li2_1)[1]))

print('-------------------------------------------------')

Proj_data2_1.drop(['symptom5','symptom6','symptom7','symptom8','symptom9','symptom10','symptom11','symptom12','symptom13','symptom14','symptom15','symptom16','symptom17'],axis=1,inplace=True)
print(Proj_data2_1)

Proj_data2_1.to_csv('Health_Disease_M4')



-----------------------------------------------------------------------------------------------------

# For 5

Proj3=[]
for i in range(4920):
    if Pro_li[i][1]==5:
        Proj3.append(i)

len(Proj3)
Proj_data3=Pro_dis.iloc[Proj3]
print(Proj_data3)
print('-------------------------------------------------')
Pro_li3=[]
for i in range(len(Proj3)):
    Pr_l3=dict(Proj_data3.iloc[i,:])
    count=0
    for j in Proj_data3.columns:
        if Pr_l3[j]!=None:
            count=count+1
    Pro_li3.append([i,count])
print(Pro_li3)

print('-------------------------------------------------')
    
print(unique(DataFrame(Pro_li3)[1]))

print('-------------------------------------------------')

Proj_data3.drop(['symptom6','symptom7','symptom8','symptom9','symptom10','symptom11','symptom12','symptom13','symptom14','symptom15','symptom16','symptom17'],axis=1,inplace=True)
print(Proj_data3)

Proj_data3.to_csv('Health_Disease_O5')

----------------------------------------------------------------

#Upto 5 where More than 5


Proj3_1=[]
for i in range(4920):
    if Pro_li[i][1]>=5:
        Proj3_1.append(i)

len(Proj3_1)
Proj_data3_1=Pro_dis.iloc[Proj3_1]
print(Proj_data3_1)
print('-------------------------------------------------')
Pro_li3_1=[]
for i in range(len(Proj3_1)):
    Pr_l3_1=dict(Proj_data3_1.iloc[i,:])
    count=0
    for j in Proj_data3_1.columns:
        if Pr_l3_1[j]!=None:
            count=count+1
    Pro_li3_1.append([i,count])
print(Pro_li3_1)

print('-------------------------------------------------')
    
print(unique(DataFrame(Pro_li3_1)[1]))

print('-------------------------------------------------')

Proj_data3_1.drop(['symptom6','symptom7','symptom8','symptom9','symptom10','symptom11','symptom12','symptom13','symptom14','symptom15','symptom16','symptom17'],axis=1,inplace=True)
print(Proj_data3_1)

Proj_data3_1.to_csv('Health_Disease_M5')


-----------------------------------------------------------------------------------------------------

# For 6

Proj4=[]
for i in range(4920):
    if Pro_li[i][1]==6:
        Proj4.append(i)

len(Proj4)
Proj_data4=Pro_dis.iloc[Proj4]
print(Proj_data4)
print('-------------------------------------------------')
Pro_li4=[]
for i in range(len(Proj4)):
    Pr_l4=dict(Proj_data4.iloc[i,:])
    count=0
    for j in Proj_data4.columns:
        if Pr_l4[j]!=None:
            count=count+1
    Pro_li4.append([i,count])
print(Pro_li4)

print('-------------------------------------------------')
    
print(unique(DataFrame(Pro_li4)[1]))

print('-------------------------------------------------')

Proj_data4.drop(['symptom7','symptom8','symptom9','symptom10','symptom11','symptom12','symptom13','symptom14','symptom15','symptom16','symptom17'],axis=1,inplace=True)
print(Proj_data4)

Proj_data4.to_csv('Health_Disease_O6')

#----------------------------------------------------------------

#Upto 6 where More than 6


Proj4_1=[]
for i in range(4920):
    if Pro_li[i][1]>=6:
        Proj4_1.append(i)

len(Proj4_1)
Proj_data4_1=Pro_dis.iloc[Proj4_1]
print(Proj_data4_1)
print('-------------------------------------------------')
Pro_li4_1=[]
for i in range(len(Proj4_1)):
    Pr_l4_1=dict(Proj_data4_1.iloc[i,:])
    count=0
    for j in Proj_data4_1.columns:
        if Pr_l4_1[j]!=None:
            count=count+1
    Pro_li4_1.append([i,count])
print(Pro_li4_1)

print('-------------------------------------------------')
    
print(unique(DataFrame(Pro_li4_1)[1]))

print('-------------------------------------------------')

Proj_data4_1.drop(['symptom7','symptom8','symptom9','symptom10','symptom11','symptom12','symptom13','symptom14','symptom15','symptom16','symptom17'],axis=1,inplace=True)
print(Proj_data4_1)

Proj_data4_1.to_csv('Health_Disease_M6')



-----------------------------------------------------------------------------------------------------

# For 7

Proj5=[]
for i in range(4920):
    if Pro_li[i][1]==7:
        Proj5.append(i)

len(Proj5)
Proj_data5=Pro_dis.iloc[Proj5]
print(Proj_data5)
print('-------------------------------------------------')
Pro_li5=[]
for i in range(len(Proj5)):
    Pr_l5=dict(Proj_data5.iloc[i,:])
    count=0
    for j in Proj_data5.columns:
        if Pr_l5[j]!=None:
            count=count+1
    Pro_li5.append([i,count])
print(Pro_li5)

print('-------------------------------------------------')
    
print(unique(DataFrame(Pro_li5)[1]))

print('-------------------------------------------------')

Proj_data5.drop(['symptom8','symptom9','symptom10','symptom11','symptom12','symptom13','symptom14','symptom15','symptom16','symptom17'],axis=1,inplace=True)
print(Proj_data5)

Proj_data5.to_csv('Health_Disease_O7')

#----------------------------------------------------------------

#Upto 7 where More than 7


Proj5_1=[]
for i in range(4920):
    if Pro_li[i][1]>=7:
        Proj5_1.append(i)

len(Proj5_1)
Proj_data5_1=Pro_dis.iloc[Proj5_1]
print(Proj_data5_1)
print('-------------------------------------------------')
Pro_li5_1=[]
for i in range(len(Proj5_1)):
    Pr_l5_1=dict(Proj_data5_1.iloc[i,:])
    count=0
    for j in Proj_data5_1.columns:
        if Pr_l5_1[j]!=None:
            count=count+1
    Pro_li5_1.append([i,count])
print(Pro_li5_1)

print('-------------------------------------------------')
    
print(unique(DataFrame(Pro_li5_1)[1]))

print('-------------------------------------------------')

Proj_data5_1.drop(['symptom8','symptom9','symptom10','symptom11','symptom12','symptom13','symptom14','symptom15','symptom16','symptom17'],axis=1,inplace=True)
print(Proj_data5_1)

Proj_data5_1.to_csv('Health_Disease_M7')




-----------------------------------------------------------------------------------------------------

# For 8

Proj6=[]
for i in range(4920):
    if Pro_li[i][1]==8:
        Proj6.append(i)

len(Proj6)
Proj_data6=Pro_dis.iloc[Proj6]
print(Proj_data6)
print('-------------------------------------------------')
Pro_li6=[]
for i in range(len(Proj6)):
    Pr_l6=dict(Proj_data6.iloc[i,:])
    count=0
    for j in Proj_data6.columns:
        if Pr_l6[j]!=None:
            count=count+1
    Pro_li6.append([i,count])
print(Pro_li6)

print('-------------------------------------------------')
    
print(unique(DataFrame(Pro_li6)[1]))

print('-------------------------------------------------')

Proj_data6.drop(['symptom9','symptom10','symptom11','symptom12','symptom13','symptom14','symptom15','symptom16','symptom17'],axis=1,inplace=True)
print(Proj_data6)

Proj_data6.to_csv('Health_Disease_O8')

#----------------------------------------------------------------

#Upto 8 where More than 8


Proj6_1=[]
for i in range(4920):
    if Pro_li[i][1]>=8:
        Proj6_1.append(i)

len(Proj6_1)
Proj_data6_1=Pro_dis.iloc[Proj6_1]
print(Proj_data6_1)
print('-------------------------------------------------')
Pro_li6_1=[]
for i in range(len(Proj6_1)):
    Pr_l6_1=dict(Proj_data6_1.iloc[i,:])
    count=0
    for j in Proj_data6_1.columns:
        if Pr_l6_1[j]!=None:
            count=count+1
    Pro_li6_1.append([i,count])
print(Pro_li6_1)

print('-------------------------------------------------')
    
print(unique(DataFrame(Pro_li6_1)[1]))

print('-------------------------------------------------')

Proj_data6_1.drop(['symptom9','symptom10','symptom11','symptom12','symptom13','symptom14','symptom15','symptom16','symptom17'],axis=1,inplace=True)
print(Proj_data6_1)

Proj_data6_1.to_csv('Health_Disease_M8')




-----------------------------------------------------------------------------------------------------

# For 9

Proj7=[]
for i in range(4920):
    if Pro_li[i][1]==9:
        Proj7.append(i)

len(Proj7)
Proj_data7=Pro_dis.iloc[Proj7]
print(Proj_data7)
print('-------------------------------------------------')
Pro_li7=[]
for i in range(len(Proj7)):
    Pr_l7=dict(Proj_data7.iloc[i,:])
    count=0
    for j in Proj_data7.columns:
        if Pr_l7[j]!=None:
            count=count+1
    Pro_li7.append([i,count])
print(Pro_li7)

print('-------------------------------------------------')
    
print(unique(DataFrame(Pro_li7)[1]))

print('-------------------------------------------------')

Proj_data7.drop(['symptom10','symptom11','symptom12','symptom13','symptom14','symptom15','symptom16','symptom17'],axis=1,inplace=True)
print(Proj_data7)

Proj_data7.to_csv('Health_Disease_O9')

#----------------------------------------------------------------

#Upto 9 where More than 9


Proj7_1=[]
for i in range(4920):
    if Pro_li[i][1]>=9:
        Proj7_1.append(i)

len(Proj7_1)
Proj_data7_1=Pro_dis.iloc[Proj7_1]
print(Proj_data7_1)
print('-------------------------------------------------')
Pro_li7_1=[]
for i in range(len(Proj7_1)):
    Pr_l7_1=dict(Proj_data7_1.iloc[i,:])
    count=0
    for j in Proj_data7_1.columns:
        if Pr_l7_1[j]!=None:
            count=count+1
    Pro_li7_1.append([i,count])
print(Pro_li7_1)

print('-------------------------------------------------')
    
print(unique(DataFrame(Pro_li7_1)[1]))

print('-------------------------------------------------')

Proj_data7_1.drop(['symptom10','symptom11','symptom12','symptom13','symptom14','symptom15','symptom16','symptom17'],axis=1,inplace=True)
print(Proj_data7_1)

Proj_data7_1.to_csv('Health_Disease_M9')



-----------------------------------------------------------------------------------------------------

# For 10

Proj8=[]
for i in range(4920):
    if Pro_li[i][1]==10:
        Proj8.append(i)

len(Proj8)
Proj_data8=Pro_dis.iloc[Proj8]
print(Proj_data8)
print('-------------------------------------------------')
Pro_li8=[]
for i in range(len(Proj8)):
    Pr_l8=dict(Proj_data8.iloc[i,:])
    count=0
    for j in Proj_data8.columns:
        if Pr_l8[j]!=None:
            count=count+1
    Pro_li8.append([i,count])
print(Pro_li8)

print('-------------------------------------------------')
    
print(unique(DataFrame(Pro_li8)[1]))

print('-------------------------------------------------')

Proj_data8.drop(['symptom11','symptom12','symptom13','symptom14','symptom15','symptom16','symptom17'],axis=1,inplace=True)
print(Proj_data8)

Proj_data8.to_csv('Health_Disease_O10')

#----------------------------------------------------------------

#Upto 10 where More than 10


Proj8_1=[]
for i in range(4920):
    if Pro_li[i][1]>=10:
        Proj8_1.append(i)

len(Proj8_1)
Proj_data8_1=Pro_dis.iloc[Proj8_1]
print(Proj_data8_1)
print('-------------------------------------------------')
Pro_li8_1=[]
for i in range(len(Proj8_1)):
    Pr_l8_1=dict(Proj_data8_1.iloc[i,:])
    count=0
    for j in Proj_data8_1.columns:
        if Pr_l8_1[j]!=None:
            count=count+1
    Pro_li8_1.append([i,count])
print(Pro_li8_1)

print('-------------------------------------------------')
    
print(unique(DataFrame(Pro_li8_1)[1]))

print('-------------------------------------------------')

Proj_data8_1.drop(['symptom11','symptom12','symptom13','symptom14','symptom15','symptom16','symptom17'],axis=1,inplace=True)
print(Proj_data8_1)

Proj_data8_1.to_csv('Health_Disease_M10')



-----------------------------------------------------------------------------------------------------

# For 11

Proj9=[]
for i in range(4920):
    if Pro_li[i][1]==11:
        Proj9.append(i)

len(Proj9)
Proj_data9=Pro_dis.iloc[Proj9]
print(Proj_data9)
print('-------------------------------------------------')
Pro_li9=[]
for i in range(len(Proj9)):
    Pr_l9=dict(Proj_data9.iloc[i,:])
    count=0
    for j in Proj_data9.columns:
        if Pr_l9[j]!=None:
            count=count+1
    Pro_li9.append([i,count])
print(Pro_li9)

print('-------------------------------------------------')
    
print(unique(DataFrame(Pro_li9)[1]))

print('-------------------------------------------------')

Proj_data9.drop(['symptom12','symptom13','symptom14','symptom15','symptom16','symptom17'],axis=1,inplace=True)
print(Proj_data9)

Proj_data9.to_csv('Health_Disease_O11')

#----------------------------------------------------------------

#Upto 11 where More than 11


Proj9_1=[]
for i in range(4920):
    if Pro_li[i][1]>=11:
        Proj9_1.append(i)

len(Proj9_1)
Proj_data9_1=Pro_dis.iloc[Proj9_1]
print(Proj_data9_1)
print('-------------------------------------------------')
Pro_li9_1=[]
for i in range(len(Proj9_1)):
    Pr_l9_1=dict(Proj_data9_1.iloc[i,:])
    count=0
    for j in Proj_data9_1.columns:
        if Pr_l9_1[j]!=None:
            count=count+1
    Pro_li9_1.append([i,count])
print(Pro_li9_1)

print('-------------------------------------------------')
    
print(unique(DataFrame(Pro_li9_1)[1]))

print('-------------------------------------------------')

Proj_data9_1.drop(['symptom12','symptom13','symptom14','symptom15','symptom16','symptom17'],axis=1,inplace=True)
print(Proj_data9_1)

Proj_data9_1.to_csv('Health_Disease_M11')


-----------------------------------------------------------------------------------------------------

# For 12

Proj10=[]
for i in range(4920):
    if Pro_li[i][1]==12:
        Proj10.append(i)

len(Proj10)
Proj_data10=Pro_dis.iloc[Proj10]
print(Proj_data10)
print('-------------------------------------------------')
Pro_li10=[]
for i in range(len(Proj10)):
    Pr_l10=dict(Proj_data10.iloc[i,:])
    count=0
    for j in Proj_data10.columns:
        if Pr_l10[j]!=None:
            count=count+1
    Pro_li10.append([i,count])
print(Pro_li10)

print('-------------------------------------------------')
    
print(unique(DataFrame(Pro_li10)[1]))

print('-------------------------------------------------')

Proj_data10.drop(['symptom13','symptom14','symptom15','symptom16','symptom17'],axis=1,inplace=True)
print(Proj_data10)

Proj_data10.to_csv('Health_Disease_O12')

#----------------------------------------------------------------

#Upto 12 where More than 12


Proj10_1=[]
for i in range(4920):
    if Pro_li[i][1]>=12:
        Proj10_1.append(i)

len(Proj10_1)
Proj_data10_1=Pro_dis.iloc[Proj10_1]
print(Proj_data10_1)
print('-------------------------------------------------')
Pro_li10_1=[]
for i in range(len(Proj10_1)):
    Pr_l10_1=dict(Proj_data10_1.iloc[i,:])
    count=0
    for j in Proj_data10_1.columns:
        if Pr_l10_1[j]!=None:
            count=count+1
    Pro_li10_1.append([i,count])
print(Pro_li10_1)

print('-------------------------------------------------')
    
print(unique(DataFrame(Pro_li10_1)[1]))

print('-------------------------------------------------')

Proj_data10_1.drop(['symptom13','symptom14','symptom15','symptom16','symptom17'],axis=1,inplace=True)
print(Proj_data10_1)

Proj_data10_1.to_csv('Health_Disease_M12')



-----------------------------------------------------------------------------------------------------

# For 13

Proj11=[]
for i in range(4920):
    if Pro_li[i][1]==13:
        Proj11.append(i)

len(Proj11)
Proj_data11=Pro_dis.iloc[Proj11]
print(Proj_data11)
print('-------------------------------------------------')
Pro_li11=[]
for i in range(len(Proj11)):
    Pr_l11=dict(Proj_data11.iloc[i,:])
    count=0
    for j in Proj_data11.columns:
        if Pr_l11[j]!=None:
            count=count+1
    Pro_li11.append([i,count])
print(Pro_li11)

print('-------------------------------------------------')
    
print(unique(DataFrame(Pro_li11)[1]))

print('-------------------------------------------------')

Proj_data11.drop(['symptom14','symptom15','symptom16','symptom17'],axis=1,inplace=True)
print(Proj_data11)

Proj_data11.to_csv('Health_Disease_O13')

#----------------------------------------------------------------

#Upto 13 where More than 13


Proj11_1=[]
for i in range(4920):
    if Pro_li[i][1]>=13:
        Proj11_1.append(i)

len(Proj11_1)
Proj_data11_1=Pro_dis.iloc[Proj11_1]
print(Proj_data11_1)
print('-------------------------------------------------')
Pro_li11_1=[]
for i in range(len(Proj11_1)):
    Pr_l11_1=dict(Proj_data11_1.iloc[i,:])
    count=0
    for j in Proj_data11_1.columns:
        if Pr_l11_1[j]!=None:
            count=count+1
    Pro_li11_1.append([i,count])
print(Pro_li11_1)

print('-------------------------------------------------')
    
print(unique(DataFrame(Pro_li11_1)[1]))

print('-------------------------------------------------')

Proj_data11_1.drop(['symptom14','symptom15','symptom16','symptom17'],axis=1,inplace=True)
print(Proj_data11_1)

Proj_data11_1.to_csv('Health_Disease_M13')



-----------------------------------------------------------------------------------------------------

# For 14

Proj12=[]
for i in range(4920):	
    if Pro_li[i][1]==14:
        Proj12.append(i)

len(Proj12)
Proj_data12=Pro_dis.iloc[Proj12]
print(Proj_data12)
print('-------------------------------------------------')
Pro_li12=[]
for i in range(len(Proj12)):
    Pr_l12=dict(Proj_data12.iloc[i,:])
    count=0
    for j in Proj_data12.columns:
        if Pr_l12[j]!=None:
            count=count+1
    Pro_li12.append([i,count])
print(Pro_li12)

print('-------------------------------------------------')
    
print(unique(DataFrame(Pro_li12)[1]))

print('-------------------------------------------------')

Proj_data12.drop(['symptom15','symptom16','symptom17'],axis=1,inplace=True)
print(Proj_data12)

Proj_data12.to_csv('Health_Disease_O14')

#----------------------------------------------------------------

#Upto 14 where More than 14


Proj12_1=[]
for i in range(4920):
    if Pro_li[i][1]>=14:
        Proj12_1.append(i)

len(Proj12_1)
Proj_data12_1=Pro_dis.iloc[Proj12_1]
print(Proj_data12_1)
print('-------------------------------------------------')
Pro_li12_1=[]
for i in range(len(Proj12_1)):
    Pr_l12_1=dict(Proj_data12_1.iloc[i,:])
    count=0
    for j in Proj_data12_1.columns:
        if Pr_l12_1[j]!=None:
            count=count+1
    Pro_li12_1.append([i,count])
print(Pro_li12_1)

print('-------------------------------------------------')
    
print(unique(DataFrame(Pro_li12_1)[1]))

print('-------------------------------------------------')

Proj_data12_1.drop(['symptom15','symptom16','symptom17'],axis=1,inplace=True)
print(Proj_data12_1)

Proj_data12_1.to_csv('Health_Disease_M14')




-----------------------------------------------------------------------------------------------------

# For 15

Proj13=[]
for i in range(4920):	
    if Pro_li[i][1]==15:
        Proj13.append(i)

len(Proj13)
Proj_data13=Pro_dis.iloc[Proj13]
print(Proj_data13)
print('-------------------------------------------------')
Pro_li13=[]
for i in range(len(Proj13)):
    Pr_l13=dict(Proj_data13.iloc[i,:])
    count=0
    for j in Proj_data13.columns:
        if Pr_l13[j]!=None:
            count=count+1
    Pro_li13.append([i,count])
print(Pro_li13)

print('-------------------------------------------------')
    
print(unique(DataFrame(Pro_li13)[1]))

print('-------------------------------------------------')

Proj_data13.drop(['symptom16','symptom17'],axis=1,inplace=True)
print(Proj_data13)

Proj_data13.to_csv('Health_Disease_O15')

#----------------------------------------------------------------

#Upto 15 where More than 15


Proj13_1=[]
for i in range(4920):
    if Pro_li[i][1]>=15:
        Proj13_1.append(i)

len(Proj13_1)
Proj_data13_1=Pro_dis.iloc[Proj13_1]
print(Proj_data13_1)
print('-------------------------------------------------')
Pro_li13_1=[]
for i in range(len(Proj13_1)):
    Pr_l13_1=dict(Proj_data13_1.iloc[i,:])
    count=0
    for j in Proj_data13_1.columns:
        if Pr_l13_1[j]!=None:
            count=count+1
    Pro_li13_1.append([i,count])
print(Pro_li13_1)

print('-------------------------------------------------')
    
print(unique(DataFrame(Pro_li13_1)[1]))

print('-------------------------------------------------')

Proj_data13_1.drop(['symptom16','symptom17'],axis=1,inplace=True)
print(Proj_data13_1)

Proj_data13_1.to_csv('Health_Disease_M15')


-----------------------------------------------------------------------------------------------------

# For 16

Proj14=[]
for i in range(4920):	
    if Pro_li[i][1]==16:
        Proj14.append(i)

len(Proj14)
Proj_data14=Pro_dis.iloc[Proj14]
print(Proj_data14)
print('-------------------------------------------------')
Pro_li14=[]
for i in range(len(Proj14)):
    Pr_l14=dict(Proj_data14.iloc[i,:])
    count=0
    for j in Proj_data14.columns:
        if Pr_l14[j]!=None:
            count=count+1
    Pro_li14.append([i,count])
print(Pro_li14)

print('-------------------------------------------------')
    
print(unique(DataFrame(Pro_li14)[1]))

print('-------------------------------------------------')

Proj_data14.drop(['symptom17'],axis=1,inplace=True)
print(Proj_data14)

Proj_data14.to_csv('Health_Disease_O16')

#----------------------------------------------------------------

#Upto 16 where More than 16


Proj14_1=[]
for i in range(4920):
    if Pro_li[i][1]>=16:
        Proj14_1.append(i)

len(Proj14_1)
Proj_data14_1=Pro_dis.iloc[Proj14_1]
print(Proj_data14_1)
print('-------------------------------------------------')
Pro_li14_1=[]
for i in range(len(Proj14_1)):
    Pr_l14_1=dict(Proj_data14_1.iloc[i,:])
    count=0
    for j in Proj_data14_1.columns:
        if Pr_l14_1[j]!=None:
            count=count+1
    Pro_li14_1.append([i,count])
print(Pro_li14_1)

print('-------------------------------------------------')
    
print(unique(DataFrame(Pro_li14_1)[1]))

print('-------------------------------------------------')

Proj_data14_1.drop(['symptom17'],axis=1,inplace=True)
print(Proj_data14_1)

Proj_data14_1.to_csv('Health_Disease_M16')



-----------------------------------------------------------------------------------------------------

# For 17

Proj15=[]
for i in range(4920):	
    if Pro_li[i][1]==15:
        Proj15.append(i)

len(Proj15)
Proj_data15=Pro_dis.iloc[Proj15]
print(Proj_data15)
print('-------------------------------------------------')
Pro_li15=[]
for i in range(len(Proj15)):
    Pr_l15=dict(Proj_data15.iloc[i,:])
    count=0
    for j in Proj_data15.columns:
        if Pr_l15[j]!=None:
            count=count+1
    Pro_li15.append([i,count])
print(Pro_li15)

print('-------------------------------------------------')
    
print(unique(DataFrame(Pro_li15)[1]))

print('-------------------------------------------------')

print(Proj_data15)

Proj_data15.to_csv('Health_Disease_O17')

#----------------------------------------------------------------

#Upto 17 where More than 17


Proj15_1=[]
for i in range(4920):
    if Pro_li[i][1]>=17:
        Proj15_1.append(i)

len(Proj15_1)
Proj_data15_1=Pro_dis.iloc[Proj15_1]
print(Proj_data15_1)
print('-------------------------------------------------')
Pro_li15_1=[]
for i in range(len(Proj15_1)):
    Pr_l15_1=dict(Proj_data15_1.iloc[i,:])
    count=0
    for j in Proj_data15_1.columns:
        if Pr_l15_1[j]!=None:
            count=count+1
    Pro_li15_1.append([i,count])
print(Pro_li15_1)

print('-------------------------------------------------')
    
print(unique(DataFrame(Pro_li15_1)[1]))

print('-------------------------------------------------')

print(Proj_data15_1)

Proj_data15_1.to_csv('Health_Disease_M17')